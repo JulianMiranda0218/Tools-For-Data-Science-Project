{
 "cells": [
  {
   "cell_type": "markdown",
   "id": "f4944076-7a16-4bd5-9a9d-f3ec3e65e021",
   "metadata": {},
   "source": [
    "# Data Science Tools and Ecosystem"
   ]
  },
  {
   "cell_type": "markdown",
   "id": "aea89e38-5ec8-4259-ade2-cb37b15c7d86",
   "metadata": {},
   "source": [
    "## In this notebook, Data Science Tools and Ecosystem are summarized."
   ]
  },
  {
   "cell_type": "markdown",
   "id": "0b6c3d87-37e0-4772-9f79-65660e415696",
   "metadata": {},
   "source": [
    "### **Objectives:**\n",
    "- Understanding popular languages for Data Science\n",
    "- Understanding commonly used libraries by Data Scientists\n",
    "- Learning new Data Science Tools\n",
    "- Seeing basic arithmetic through Python"
   ]
  },
  {
   "cell_type": "markdown",
   "id": "197ae703-df22-45fc-b252-901f4ea3bba0",
   "metadata": {},
   "source": [
    "## Some of the popular languages that Data Scientists use are:\n",
    "### 1. Python\n",
    "### 2. R\n",
    "### 3. SQL"
   ]
  },
  {
   "cell_type": "markdown",
   "id": "f80c2cdd-3ed5-4a96-8a17-973b369ca8dc",
   "metadata": {},
   "source": [
    "## Some of the commonly used libraries by Data Scientists are:\n",
    "### 1. Pandas\n",
    "### 2. NumPy\n",
    "### 3. Matplotlib\n"
   ]
  },
  {
   "cell_type": "markdown",
   "id": "13c0d1e0-3505-4f49-b61e-dd3d324ae092",
   "metadata": {},
   "source": [
    "| Data Science Tools |\n",
    "|-------------------|\n",
    "| Jupyter Notebook|\n",
    "| Google Colab| \n",
    "| Anaconda | "
   ]
  },
  {
   "cell_type": "markdown",
   "id": "2ccd84e1-e3f9-43d9-87db-54f2ad53ab5d",
   "metadata": {},
   "source": [
    "### Below are a few examples of evaluating arithmetic expression in Python."
   ]
  },
  {
   "cell_type": "code",
   "execution_count": 16,
   "id": "2086a273-e0f8-4214-9f0e-d41defdfeafa",
   "metadata": {},
   "outputs": [
    {
     "data": {
      "text/plain": [
       "17"
      ]
     },
     "execution_count": 16,
     "metadata": {},
     "output_type": "execute_result"
    }
   ],
   "source": [
    "#This is a simple arithmetic expression to multiply then add integers.\n",
    "(3*4)+5"
   ]
  },
  {
   "cell_type": "code",
   "execution_count": 18,
   "id": "cd5ff770-a44d-4c38-909f-6b2ce32e6d7a",
   "metadata": {},
   "outputs": [
    {
     "data": {
      "text/plain": [
       "3.3333333333333335"
      ]
     },
     "execution_count": 18,
     "metadata": {},
     "output_type": "execute_result"
    }
   ],
   "source": [
    "#This will convert 200 minutes to hours by dividing by 60\n",
    "200/60"
   ]
  },
  {
   "cell_type": "markdown",
   "id": "51c0847b-fe11-4852-8e59-0c5c4f9209aa",
   "metadata": {},
   "source": [
    "## Author\n",
    "Julian Miranda"
   ]
  },
  {
   "cell_type": "code",
   "execution_count": null,
   "id": "1e1387f7-847e-4f00-9d54-7e1801a6057e",
   "metadata": {},
   "outputs": [],
   "source": []
  }
 ],
 "metadata": {
  "kernelspec": {
   "display_name": "Python [conda env:base]",
   "language": "python",
   "name": "conda-base-py"
  },
  "language_info": {
   "codemirror_mode": {
    "name": "ipython",
    "version": 3
   },
   "file_extension": ".py",
   "mimetype": "text/x-python",
   "name": "python",
   "nbconvert_exporter": "python",
   "pygments_lexer": "ipython3",
   "version": "3.12.7"
  }
 },
 "nbformat": 4,
 "nbformat_minor": 5
}
